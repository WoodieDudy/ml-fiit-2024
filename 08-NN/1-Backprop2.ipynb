{
 "cells": [
  {
   "cell_type": "code",
   "execution_count": 9,
   "metadata": {},
   "outputs": [],
   "source": [
    "import math\n",
    "import numpy as np\n",
    "import matplotlib.pyplot as plt\n",
    "%matplotlib inline"
   ]
  },
  {
   "attachments": {},
   "cell_type": "markdown",
   "metadata": {},
   "source": [
    "Любая нейронная сеть это математическое выражение с параметрами, как в ЕГЭ $ y = \\sqrt{R^2 -  (x - a)^2} + b $ (тут можно регулировать параметры `a`, `R`, `b`, чтобы сделать любую окружность).  \n",
    "И мы хотим, чтобы это математическое выражение считало, то что мы хотим.  \n",
    "У нас есть (точнее нету) функция, которую мы хотим предсказывать, которую мы хотим апроксимировать. Но у нас есть набор наблюдений поведения этой функции. Набор пар/примеров (входное значение, выходное значение) и мы хотим так подогнать параменты нашего выражения, чтобы оно давало правильные (почти) ответы на наших примерах и как следствие, работало на похожих примерах"
   ]
  },
  {
   "attachments": {},
   "cell_type": "markdown",
   "metadata": {},
   "source": [
    "Предположим, что это наше математическое выражение"
   ]
  },
  {
   "cell_type": "code",
   "execution_count": 1,
   "metadata": {},
   "outputs": [],
   "source": [
    "\n",
    "def f(x, a, b):\n",
    "    return a * x + b"
   ]
  },
  {
   "attachments": {},
   "cell_type": "markdown",
   "metadata": {},
   "source": [
    "И мы хотим, чтобы оно удовлетворяло набору примеров (точек на плоскости)  \n",
    "(-1, 2)  \n",
    "(2, -3)  "
   ]
  },
  {
   "attachments": {},
   "cell_type": "markdown",
   "metadata": {},
   "source": [
    "Для этого нам надо минимизировать разницу между выходами функции и множеством Y, варьируя параметры `a` и `b`"
   ]
  },
  {
   "attachments": {},
   "cell_type": "markdown",
   "metadata": {},
   "source": [
    "$loss = \\sum_{i=0}^{n} (f(x_i, a, b) - y_i)^2 \\underset{\\text{a, b}}{\\longrightarrow} min $ "
   ]
  },
  {
   "attachments": {},
   "cell_type": "markdown",
   "metadata": {},
   "source": [
    "Если бы нам надо было искать минимум только по одной переменной `a` или `b`, то мы бы могли взять производную этой функции по этой переменной, найти точку минимума и все  \n",
    "Но тут у нас две переменные.  \n",
    "И все что мы можем сделать, этой найти производную по `a`, потом по `b` и сделать два маленьких шага в сторону, противоположную производной, чтобы уменьшить функцию"
   ]
  },
  {
   "attachments": {},
   "cell_type": "markdown",
   "metadata": {},
   "source": [
    "$ loss = (a * (-1) + b - 2)^2 + (a * 2 + b - (-3))^2 $  \n",
    "$ loss = 5a^2 + 2b^2 + 4b + 13 + 2ab + 16a + 2b $"
   ]
  },
  {
   "attachments": {},
   "cell_type": "markdown",
   "metadata": {},
   "source": [
    "Найдем производную по `a`"
   ]
  },
  {
   "attachments": {},
   "cell_type": "markdown",
   "metadata": {},
   "source": [
    "$ \\frac{d \\space loss}{da} = \\frac{d}{da} (5a^2 + 2b^2 + 4b + 13 + 2ab + 16a + 2b) = 10a + 2b + 16 $"
   ]
  },
  {
   "attachments": {},
   "cell_type": "markdown",
   "metadata": {},
   "source": [
    "И по `b`"
   ]
  },
  {
   "attachments": {},
   "cell_type": "markdown",
   "metadata": {},
   "source": [
    "$ \\frac{d \\space loss}{db} =  \\frac{d}{db} (5a^2 + 2b^2 + 4b + 13 + 2ab + 16a + 2b) = 4b + 2a + 2 $\n"
   ]
  },
  {
   "attachments": {},
   "cell_type": "markdown",
   "metadata": {},
   "source": [
    "Вообще в этом случае можно просто решить систему, прировняв производные к 0. Но обычно параметров миллионы"
   ]
  },
  {
   "attachments": {},
   "cell_type": "markdown",
   "metadata": {},
   "source": [
    "Чтобы начать подбирать параметры, надо их рандомно инициализировать  \n",
    "Пусть $a = b = 0 $"
   ]
  },
  {
   "attachments": {},
   "cell_type": "markdown",
   "metadata": {},
   "source": [
    "$ \\frac{d \\space loss}{da}(0, 0) = 16 $  \n",
    "  \n",
    "$ \\frac{d \\space loss}{db}(0, 0) = 2 $"
   ]
  },
  {
   "attachments": {},
   "cell_type": "markdown",
   "metadata": {},
   "source": [
    "Подвинем немного каждую переменную в сторону, обратную производной  \n",
    "```\n",
    "step = 0.1   \n",
    "a -= 16 * step   \n",
    "b -= 2 * step   \n",
    "  \n",
    "a = -1.6   \n",
    "b = -0.2 \n",
    "```"
   ]
  },
  {
   "attachments": {},
   "cell_type": "markdown",
   "metadata": {},
   "source": [
    "Сделаем следующий шаг"
   ]
  },
  {
   "attachments": {},
   "cell_type": "markdown",
   "metadata": {},
   "source": [
    "$ \\frac{d \\space loss}{da}(-1.6, -0.2) = -0.4 $ # Производная стала на много меньше. Из этого может следовать, что значение близко к оптимуму  \n",
    "  \n",
    "$ \\frac{d \\space loss}{db}(-1.6, -0.2) = -2 $"
   ]
  },
  {
   "attachments": {},
   "cell_type": "markdown",
   "metadata": {},
   "source": [
    "Го запрогаем"
   ]
  },
  {
   "cell_type": "code",
   "execution_count": 4,
   "metadata": {},
   "outputs": [],
   "source": [
    "a = b = 0\n",
    "step = 0.1\n",
    "for _ in range(100):\n",
    "    dLda = 10 * a + 2 * b + 16\n",
    "    dLdb = 4 * b + 2 * a + 2\n",
    "    a -= dLda * step\n",
    "    b -= dLdb * step"
   ]
  },
  {
   "cell_type": "code",
   "execution_count": 5,
   "metadata": {},
   "outputs": [
    {
     "data": {
      "text/plain": [
       "(-1.6666666666666667, 0.3333333333333333)"
      ]
     },
     "execution_count": 5,
     "metadata": {},
     "output_type": "execute_result"
    }
   ],
   "source": [
    "a, b"
   ]
  },
  {
   "attachments": {},
   "cell_type": "markdown",
   "metadata": {},
   "source": [
    "Проверим, что получилось"
   ]
  },
  {
   "cell_type": "code",
   "execution_count": 14,
   "metadata": {},
   "outputs": [
    {
     "data": {
      "image/png": "[encoded data removed]",
      "text/plain": [
       "<Figure size 800x600 with 1 Axes>"
      ]
     },
     "metadata": {},
     "output_type": "display_data"
    }
   ],
   "source": [
    "points = np.array([(-1, 2), (2, -3)])\n",
    "\n",
    "x_values = np.linspace(-3, 3, 100)\n",
    "y_values = a * x_values + b\n",
    "\n",
    "plt.figure(figsize=(8, 6))\n",
    "plt.plot(x_values, y_values, label=f'y = {a:.4f} * x + {b:.4f}', color='blue')\n",
    "plt.scatter(points[:,0], points[:,1], color='red', label='Точки')\n",
    "\n",
    "plt.xlabel('x')\n",
    "plt.ylabel('y')\n",
    "plt.legend()\n",
    "\n",
    "plt.grid(True)\n",
    "plt.axhline(0, color='black',linewidth=0.5)\n",
    "plt.axvline(0, color='black',linewidth=0.5)\n",
    "plt.show()"
   ]
  },
  {
   "attachments": {},
   "cell_type": "markdown",
   "metadata": {},
   "source": [
    "### Теперь давайте автоматизируем этот процесс"
   ]
  },
  {
   "attachments": {},
   "cell_type": "markdown",
   "metadata": {},
   "source": [
    "Нейросети представляют очень большие математические выражения.  \n",
    "Давайте реализуем объект `Value`, которыми будем оперировать в наших выражениях.  \n",
    "Это будет аналогом `torch.tensor` в pytorch "
   ]
  },
  {
   "attachments": {},
   "cell_type": "markdown",
   "metadata": {},
   "source": [
    "У `Value` будет несколько полей.   \n",
    "* `data` - числовое значение  \n",
    "* `_children` - множество другиех `Value` с помощью которых было получено это значение.   \n",
    "    Например если  \n",
    "    ```python\n",
    "    a = Value(1)\n",
    "    b = Value(2)\n",
    "    c = a + b\n",
    "    print(c._children) # set(a, b)\n",
    "    ```\n",
    "\n",
    "Эти параметры нужны просто для дальнейшие визуализации  \n",
    "* `_op` - строка в которой написано, с помощью какой операции было полученно значение. Например `\"+\"` или `\"sigmoid\"`  \n",
    "* `label` - просто название переменной  "
   ]
  },
  {
   "cell_type": "code",
   "execution_count": 28,
   "metadata": {},
   "outputs": [],
   "source": [
    "class Value:\n",
    "    def __init__(self, data, _children=(), _op='', label=''):\n",
    "        self.data = data\n",
    "        self._prev = set(_children)\n",
    "        self._op = _op\n",
    "        self.label = label\n",
    "\n",
    "    def __repr__(self):\n",
    "        return f\"Value(data={self.data})\"\n",
    "  \n",
    "    def __add__(self, other):\n",
    "        out = Value(self.data + other.data, (self, other), '+')\n",
    "        return out\n",
    "\n",
    "    def __mul__(self, other):\n",
    "        out = Value(self.data * other.data, (self, other), '*')\n",
    "        return out"
   ]
  },
  {
   "cell_type": "code",
   "execution_count": 38,
   "metadata": {},
   "outputs": [
    {
     "data": {
      "text/plain": [
       "Value(data=2.0)"
      ]
     },
     "execution_count": 38,
     "metadata": {},
     "output_type": "execute_result"
    }
   ],
   "source": [
    "a = Value(-5/3, label='a')\n",
    "b = Value(1/3, label='b')\n",
    "x = Value(-1, label='x')\n",
    "c = a * x; c.label = 'c'\n",
    "y = c + b; y.label = 'y'\n",
    "y"
   ]
  },
  {
   "attachments": {},
   "cell_type": "markdown",
   "metadata": {},
   "source": [
    "Тут спрятана функция, которая рисует граф операций с помощью которых было полученно какие-то `Value`. Не принципиально как она работает"
   ]
  },
  {
   "cell_type": "code",
   "execution_count": 39,
   "metadata": {},
   "outputs": [],
   "source": [
    "from graphviz import Digraph\n",
    "\n",
    "def trace(root):\n",
    "  # builds a set of all nodes and edges in a graph\n",
    "  nodes, edges = set(), set()\n",
    "  def build(v):\n",
    "    if v not in nodes:\n",
    "      nodes.add(v)\n",
    "      for child in v._prev:\n",
    "        edges.add((child, v))\n",
    "        build(child)\n",
    "  build(root)\n",
    "  return nodes, edges\n",
    "\n",
    "def draw_dot(root):\n",
    "  dot = Digraph(format='svg', graph_attr={'rankdir': 'LR'}) # LR = left to right\n",
    "  \n",
    "  nodes, edges = trace(root)\n",
    "  for n in nodes:\n",
    "    uid = str(id(n))\n",
    "    # for any value in the graph, create a rectangular ('record') node for it\n",
    "    if hasattr(n, 'grad'):\n",
    "      label = \"{ %s | data %.4f | grad %.4f }\" % (n.label, n.data, n.grad)\n",
    "    else:\n",
    "      label = \"{ %s | data %.4f }\" % (n.label, n.data)\n",
    "    dot.node(name = uid, label = label, shape='record')\n",
    "    if n._op:\n",
    "      # if this value is a result of some operation, create an op node for it\n",
    "      dot.node(name = uid + n._op, label = n._op)\n",
    "      # and connect this node to it\n",
    "      dot.edge(uid + n._op, uid)\n",
    "\n",
    "  for n1, n2 in edges:\n",
    "    # connect n1 to the op node of n2\n",
    "    dot.edge(str(id(n1)), str(id(n2)) + n2._op)\n",
    "\n",
    "  return dot"
   ]
  },
  {
   "cell_type": "code",
   "execution_count": 40,
   "metadata": {},
   "outputs": [
    {
     "data": {
      "image/svg+xml": [
       "<?xml version=\"1.0\" encoding=\"UTF-8\" standalone=\"no\"?>\n",
       "<!DOCTYPE svg PUBLIC \"-//W3C//DTD SVG 1.1//EN\"\n",
       " \"http://www.w3.org/Graphics/SVG/1.1/DTD/svg11.dtd\">\n",
       "<!-- Generated by graphviz version 10.0.1 (20240210.2158)\n",
       " -->\n",
       "<!-- Pages: 1 -->\n",
       "<svg width=\"572pt\" height=\"128pt\"\n",
       " viewBox=\"0.00 0.00 572.00 128.00\" xmlns=\"http://www.w3.org/2000/svg\" xmlns:xlink=\"http://www.w3.org/1999/xlink\">\n",
       "<g id=\"graph0\" class=\"graph\" transform=\"scale(1 1) rotate(0) translate(4 124)\">\n",
       "<polygon fill=\"white\" stroke=\"none\" points=\"-4,4 -4,-124 568,-124 568,4 -4,4\"/>\n",
       "<!-- 4962322944 -->\n",
       "<g id=\"node1\" class=\"node\">\n",
       "<title>4962322944</title>\n",
       "<polygon fill=\"none\" stroke=\"black\" points=\"0.38,-83.5 0.38,-119.5 106.62,-119.5 106.62,-83.5 0.38,-83.5\"/>\n",
       "<text text-anchor=\"middle\" x=\"11.38\" y=\"-96.7\" font-family=\"Times,serif\" font-size=\"14.00\">a</text>\n",
       "<polyline fill=\"none\" stroke=\"black\" points=\"22.38,-84 22.38,-119.5\"/>\n",
       "<text text-anchor=\"middle\" x=\"64.5\" y=\"-96.7\" font-family=\"Times,serif\" font-size=\"14.00\">data &#45;1.6667</text>\n",
       "</g>\n",
       "<!-- 4962323616* -->\n",
       "<g id=\"node4\" class=\"node\">\n",
       "<title>4962323616*</title>\n",
       "<ellipse fill=\"none\" stroke=\"black\" cx=\"170\" cy=\"-73.5\" rx=\"27\" ry=\"18\"/>\n",
       "<text text-anchor=\"middle\" x=\"170\" y=\"-68.45\" font-family=\"Times,serif\" font-size=\"14.00\">*</text>\n",
       "</g>\n",
       "<!-- 4962322944&#45;&gt;4962323616* -->\n",
       "<g id=\"edge4\" class=\"edge\">\n",
       "<title>4962322944&#45;&gt;4962323616*</title>\n",
       "<path fill=\"none\" stroke=\"black\" d=\"M107.06,-88.65C115.85,-86.5 124.79,-84.31 133.04,-82.29\"/>\n",
       "<polygon fill=\"black\" stroke=\"black\" points=\"133.81,-85.71 142.69,-79.93 132.14,-78.91 133.81,-85.71\"/>\n",
       "</g>\n",
       "<!-- 4962333696 -->\n",
       "<g id=\"node2\" class=\"node\">\n",
       "<title>4962333696</title>\n",
       "<polygon fill=\"none\" stroke=\"black\" points=\"0,-28.5 0,-64.5 107,-64.5 107,-28.5 0,-28.5\"/>\n",
       "<text text-anchor=\"middle\" x=\"11.38\" y=\"-41.7\" font-family=\"Times,serif\" font-size=\"14.00\">x</text>\n",
       "<polyline fill=\"none\" stroke=\"black\" points=\"22.75,-29 22.75,-64.5\"/>\n",
       "<text text-anchor=\"middle\" x=\"64.88\" y=\"-41.7\" font-family=\"Times,serif\" font-size=\"14.00\">data &#45;1.0000</text>\n",
       "</g>\n",
       "<!-- 4962333696&#45;&gt;4962323616* -->\n",
       "<g id=\"edge6\" class=\"edge\">\n",
       "<title>4962333696&#45;&gt;4962323616*</title>\n",
       "<path fill=\"none\" stroke=\"black\" d=\"M107.39,-58.97C116.08,-61.02 124.89,-63.1 133.04,-65.02\"/>\n",
       "<polygon fill=\"black\" stroke=\"black\" points=\"132.01,-68.37 142.55,-67.26 133.62,-61.56 132.01,-68.37\"/>\n",
       "</g>\n",
       "<!-- 4962323616 -->\n",
       "<g id=\"node3\" class=\"node\">\n",
       "<title>4962323616</title>\n",
       "<polygon fill=\"none\" stroke=\"black\" points=\"233.38,-55.5 233.38,-91.5 335.12,-91.5 335.12,-55.5 233.38,-55.5\"/>\n",
       "<text text-anchor=\"middle\" x=\"244.38\" y=\"-68.7\" font-family=\"Times,serif\" font-size=\"14.00\">c</text>\n",
       "<polyline fill=\"none\" stroke=\"black\" points=\"255.38,-56 255.38,-91.5\"/>\n",
       "<text text-anchor=\"middle\" x=\"295.25\" y=\"-68.7\" font-family=\"Times,serif\" font-size=\"14.00\">data 1.6667</text>\n",
       "</g>\n",
       "<!-- 4962323376+ -->\n",
       "<g id=\"node7\" class=\"node\">\n",
       "<title>4962323376+</title>\n",
       "<ellipse fill=\"none\" stroke=\"black\" cx=\"398.5\" cy=\"-45.5\" rx=\"27\" ry=\"18\"/>\n",
       "<text text-anchor=\"middle\" x=\"398.5\" y=\"-40.45\" font-family=\"Times,serif\" font-size=\"14.00\">+</text>\n",
       "</g>\n",
       "<!-- 4962323616&#45;&gt;4962323376+ -->\n",
       "<g id=\"edge3\" class=\"edge\">\n",
       "<title>4962323616&#45;&gt;4962323376+</title>\n",
       "<path fill=\"none\" stroke=\"black\" d=\"M335.47,-60.97C344.37,-58.75 353.48,-56.48 361.88,-54.38\"/>\n",
       "<polygon fill=\"black\" stroke=\"black\" points=\"362.49,-57.84 371.34,-52.02 360.79,-51.05 362.49,-57.84\"/>\n",
       "</g>\n",
       "<!-- 4962323616*&#45;&gt;4962323616 -->\n",
       "<g id=\"edge1\" class=\"edge\">\n",
       "<title>4962323616*&#45;&gt;4962323616</title>\n",
       "<path fill=\"none\" stroke=\"black\" d=\"M197.32,-73.5C204.8,-73.5 213.27,-73.5 221.91,-73.5\"/>\n",
       "<polygon fill=\"black\" stroke=\"black\" points=\"221.78,-77 231.78,-73.5 221.78,-70 221.78,-77\"/>\n",
       "</g>\n",
       "<!-- 4962324672 -->\n",
       "<g id=\"node5\" class=\"node\">\n",
       "<title>4962324672</title>\n",
       "<polygon fill=\"none\" stroke=\"black\" points=\"233,-0.5 233,-36.5 335.5,-36.5 335.5,-0.5 233,-0.5\"/>\n",
       "<text text-anchor=\"middle\" x=\"244.38\" y=\"-13.7\" font-family=\"Times,serif\" font-size=\"14.00\">b</text>\n",
       "<polyline fill=\"none\" stroke=\"black\" points=\"255.75,-1 255.75,-36.5\"/>\n",
       "<text text-anchor=\"middle\" x=\"295.62\" y=\"-13.7\" font-family=\"Times,serif\" font-size=\"14.00\">data 0.3333</text>\n",
       "</g>\n",
       "<!-- 4962324672&#45;&gt;4962323376+ -->\n",
       "<g id=\"edge5\" class=\"edge\">\n",
       "<title>4962324672&#45;&gt;4962323376+</title>\n",
       "<path fill=\"none\" stroke=\"black\" d=\"M335.79,-30.66C344.49,-32.75 353.38,-34.89 361.59,-36.86\"/>\n",
       "<polygon fill=\"black\" stroke=\"black\" points=\"360.66,-40.24 371.2,-39.17 362.3,-33.43 360.66,-40.24\"/>\n",
       "</g>\n",
       "<!-- 4962323376 -->\n",
       "<g id=\"node6\" class=\"node\">\n",
       "<title>4962323376</title>\n",
       "<polygon fill=\"none\" stroke=\"black\" points=\"461.5,-27.5 461.5,-63.5 564,-63.5 564,-27.5 461.5,-27.5\"/>\n",
       "<text text-anchor=\"middle\" x=\"472.88\" y=\"-40.7\" font-family=\"Times,serif\" font-size=\"14.00\">y</text>\n",
       "<polyline fill=\"none\" stroke=\"black\" points=\"484.25,-28 484.25,-63.5\"/>\n",
       "<text text-anchor=\"middle\" x=\"524.12\" y=\"-40.7\" font-family=\"Times,serif\" font-size=\"14.00\">data 2.0000</text>\n",
       "</g>\n",
       "<!-- 4962323376+&#45;&gt;4962323376 -->\n",
       "<g id=\"edge2\" class=\"edge\">\n",
       "<title>4962323376+&#45;&gt;4962323376</title>\n",
       "<path fill=\"none\" stroke=\"black\" d=\"M425.82,-45.5C433.21,-45.5 441.57,-45.5 450.1,-45.5\"/>\n",
       "<polygon fill=\"black\" stroke=\"black\" points=\"449.83,-49 459.83,-45.5 449.83,-42 449.83,-49\"/>\n",
       "</g>\n",
       "</g>\n",
       "</svg>\n"
      ],
      "text/plain": [
       "<graphviz.graphs.Digraph at 0x1242ff6a0>"
      ]
     },
     "execution_count": 40,
     "metadata": {},
     "output_type": "execute_result"
    }
   ],
   "source": [
    "draw_dot(y)"
   ]
  },
  {
   "attachments": {},
   "cell_type": "markdown",
   "metadata": {},
   "source": [
    "Далее мы хотим для каждого `Value` посчитать по нему частную производную.  \n",
    "В ml значение частной производной по параметру называется \"градиент\". В матанализе градиент, это вектор частных произвдных.  "
   ]
  },
  {
   "attachments": {},
   "cell_type": "markdown",
   "metadata": {},
   "source": [
    "Доработаем класс `Value`  \n",
    "В `self.grad` мы будем хранить значение частной производной. Изначально переменная не состоит ни в каком выражении, ни на что не влиет, поэтому поставим `self.grad = 0.0`  \n",
    "Далее у нас будет функция `self._backward`, которую мы будем вызывать рекурсивно у каждого `значения` в выражении, чтобы посчитать его градиент. \n",
    "```python\n",
    "class Value:\n",
    "    def __init__(self, data, _children=(), _op='', label=''):\n",
    "        self.data = data\n",
    "        self.grad = 0.0\n",
    "        self._backward = lambda: None\n",
    "        self._prev = set(_children)\n",
    "        self._op = _op\n",
    "        self.label = label\n",
    "```"
   ]
  },
  {
   "attachments": {},
   "cell_type": "markdown",
   "metadata": {},
   "source": [
    "Предположим у нас есть выражение\n",
    "```\n",
    "y = a * b\n",
    "F = f(y)\n",
    "```\n",
    "Тогда `y._children = set(a, b)`   \n",
    "\n",
    "И допустим мы уже как-то вычислили градиент `y` и он равен `y.grad`  \n",
    "Мы хотим узнать градиет у значений `a` и `b`, вызвав у них метод `._backward()`. Но по началу в этот метод ничего не делает. Надо в него что-то положить.  \n",
    "По логике (и правилу взятия производной сложной функции $ \\frac{dF}{da} = \\frac{dF}{dy} * \\frac{dy}{da} $) `a.grad` должен быть равен $ \\frac{dF}{dy} * \\frac{dy}{da} = y.grad * b.data $.  \n",
    "Аналогично $ b.grad = \\frac{dF}{dy} * \\frac{dy}{db} = y.grad * a.data $.  \n",
    "  \n",
    "Давайте, при создании значения `y` через произведение `a * b` присваивать в метод `._backward` функцию, которая будет расчитывать значения градиентов у `children`, то есть у `a` и `b` в нашем случае.  \n",
    "```python\n",
    "class Value:\n",
    "    def __mul__(self, other):\n",
    "        # создаем `y` когда умножаем `a` на `b`\n",
    "        out = Value(self.data * other.data, (self, other), '*')\n",
    "        \n",
    "        def _backward():\n",
    "            self.grad += other.data * out.grad \n",
    "            other.grad += self.data * out.grad\n",
    "\n",
    "        out._backward = _backward\n",
    "        \n",
    "        return out\n",
    "```\n",
    "\n",
    "В строках\n",
    "```python\n",
    "self.grad += other.data * out.grad \n",
    "other.grad += self.data * out.grad\n",
    "```\n",
    "мы делаем `+=`, а не `=`, потому что переменная/значение может встречается в выражении несколько раз.  \n",
    "Например\n",
    "`y = a * (a * b)`  \n",
    "Тут производная по `a`, если считать на бумажке, получится  \n",
    "$ \\frac{dy}{da} = 2ba $  \n",
    "  \n",
    "А если считать алгоритмом  \n",
    "`a.grad = y.grad * (a * b).data + (a * b).grad * b.data = y.grad * (a * b).data + (y.grad * a.data) * b.data`  \n",
    "Есть преобразовать, то получится тоже самое  \n",
    "`a.grad = y.grad * 2 * b * a`  \n",
    "\n",
    "Сначала наш алгоритм посчитает градиент из первого умножения `y = a * ...`   \n",
    "А потом из второго `(a * b)`  \n"
   ]
  },
  {
   "cell_type": "code",
   "execution_count": 41,
   "metadata": {},
   "outputs": [],
   "source": [
    "class Value:\n",
    "    def __init__(self, data, _children=(), _op='', label=''):\n",
    "        self.data = data\n",
    "        self.grad = 0.0\n",
    "        self._backward = lambda: None\n",
    "        self._prev = set(_children)\n",
    "        self._op = _op\n",
    "        self.label = label\n",
    "\n",
    "    def __repr__(self):\n",
    "        return f\"Value(data={self.data})\"\n",
    "\n",
    "    def __mul__(self, other):\n",
    "        out = Value(self.data * other.data, (self, other), '*')\n",
    "        \n",
    "        def _backward():\n",
    "            self.grad += other.data * out.grad\n",
    "            other.grad += self.data * out.grad\n",
    "\n",
    "        out._backward = _backward\n",
    "        \n",
    "        return out"
   ]
  },
  {
   "cell_type": "code",
   "execution_count": 45,
   "metadata": {},
   "outputs": [
    {
     "data": {
      "text/plain": [
       "(10.0, 6.0)"
      ]
     },
     "execution_count": 45,
     "metadata": {},
     "output_type": "execute_result"
    }
   ],
   "source": [
    "a = Value(3, label='a')\n",
    "b = Value(5, label='b')\n",
    "y = a * b; y.label ='y'\n",
    "y.grad = 2.0 # предположим, что мы его нашли\n",
    "y._backward()\n",
    "a.grad, b.grad"
   ]
  },
  {
   "cell_type": "code",
   "execution_count": 46,
   "metadata": {},
   "outputs": [
    {
     "data": {
      "image/svg+xml": [
       "<?xml version=\"1.0\" encoding=\"UTF-8\" standalone=\"no\"?>\n",
       "<!DOCTYPE svg PUBLIC \"-//W3C//DTD SVG 1.1//EN\"\n",
       " \"http://www.w3.org/Graphics/SVG/1.1/DTD/svg11.dtd\">\n",
       "<!-- Generated by graphviz version 10.0.1 (20240210.2158)\n",
       " -->\n",
       "<!-- Pages: 1 -->\n",
       "<svg width=\"514pt\" height=\"100pt\"\n",
       " viewBox=\"0.00 0.00 514.25 100.00\" xmlns=\"http://www.w3.org/2000/svg\" xmlns:xlink=\"http://www.w3.org/1999/xlink\">\n",
       "<g id=\"graph0\" class=\"graph\" transform=\"scale(1 1) rotate(0) translate(4 96)\">\n",
       "<polygon fill=\"white\" stroke=\"none\" points=\"-4,4 -4,-96 510.25,-96 510.25,4 -4,4\"/>\n",
       "<!-- 4962333744 -->\n",
       "<g id=\"node1\" class=\"node\">\n",
       "<title>4962333744</title>\n",
       "<polygon fill=\"none\" stroke=\"black\" points=\"315.75,-27.5 315.75,-63.5 506.25,-63.5 506.25,-27.5 315.75,-27.5\"/>\n",
       "<text text-anchor=\"middle\" x=\"327.12\" y=\"-40.7\" font-family=\"Times,serif\" font-size=\"14.00\">y</text>\n",
       "<polyline fill=\"none\" stroke=\"black\" points=\"338.5,-28 338.5,-63.5\"/>\n",
       "<text text-anchor=\"middle\" x=\"381.75\" y=\"-40.7\" font-family=\"Times,serif\" font-size=\"14.00\">data 15.0000</text>\n",
       "<polyline fill=\"none\" stroke=\"black\" points=\"425,-28 425,-63.5\"/>\n",
       "<text text-anchor=\"middle\" x=\"465.62\" y=\"-40.7\" font-family=\"Times,serif\" font-size=\"14.00\">grad 2.0000</text>\n",
       "</g>\n",
       "<!-- 4962333744* -->\n",
       "<g id=\"node2\" class=\"node\">\n",
       "<title>4962333744*</title>\n",
       "<ellipse fill=\"none\" stroke=\"black\" cx=\"252.75\" cy=\"-45.5\" rx=\"27\" ry=\"18\"/>\n",
       "<text text-anchor=\"middle\" x=\"252.75\" y=\"-40.45\" font-family=\"Times,serif\" font-size=\"14.00\">*</text>\n",
       "</g>\n",
       "<!-- 4962333744*&#45;&gt;4962333744 -->\n",
       "<g id=\"edge1\" class=\"edge\">\n",
       "<title>4962333744*&#45;&gt;4962333744</title>\n",
       "<path fill=\"none\" stroke=\"black\" d=\"M279.9,-45.5C287.05,-45.5 295.26,-45.5 304,-45.5\"/>\n",
       "<polygon fill=\"black\" stroke=\"black\" points=\"303.81,-49 313.81,-45.5 303.81,-42 303.81,-49\"/>\n",
       "</g>\n",
       "<!-- 4962327600 -->\n",
       "<g id=\"node3\" class=\"node\">\n",
       "<title>4962327600</title>\n",
       "<polygon fill=\"none\" stroke=\"black\" points=\"0,-55.5 0,-91.5 189.75,-91.5 189.75,-55.5 0,-55.5\"/>\n",
       "<text text-anchor=\"middle\" x=\"11\" y=\"-68.7\" font-family=\"Times,serif\" font-size=\"14.00\">a</text>\n",
       "<polyline fill=\"none\" stroke=\"black\" points=\"22,-56 22,-91.5\"/>\n",
       "<text text-anchor=\"middle\" x=\"61.88\" y=\"-68.7\" font-family=\"Times,serif\" font-size=\"14.00\">data 3.0000</text>\n",
       "<polyline fill=\"none\" stroke=\"black\" points=\"101.75,-56 101.75,-91.5\"/>\n",
       "<text text-anchor=\"middle\" x=\"145.75\" y=\"-68.7\" font-family=\"Times,serif\" font-size=\"14.00\">grad 10.0000</text>\n",
       "</g>\n",
       "<!-- 4962327600&#45;&gt;4962333744* -->\n",
       "<g id=\"edge2\" class=\"edge\">\n",
       "<title>4962327600&#45;&gt;4962333744*</title>\n",
       "<path fill=\"none\" stroke=\"black\" d=\"M190.14,-56.57C198.91,-54.99 207.4,-53.47 215.12,-52.08\"/>\n",
       "<polygon fill=\"black\" stroke=\"black\" points=\"215.48,-55.57 224.7,-50.36 214.24,-48.68 215.48,-55.57\"/>\n",
       "</g>\n",
       "<!-- 4962322032 -->\n",
       "<g id=\"node4\" class=\"node\">\n",
       "<title>4962322032</title>\n",
       "<polygon fill=\"none\" stroke=\"black\" points=\"3,-0.5 3,-36.5 186.75,-36.5 186.75,-0.5 3,-0.5\"/>\n",
       "<text text-anchor=\"middle\" x=\"14.38\" y=\"-13.7\" font-family=\"Times,serif\" font-size=\"14.00\">b</text>\n",
       "<polyline fill=\"none\" stroke=\"black\" points=\"25.75,-1 25.75,-36.5\"/>\n",
       "<text text-anchor=\"middle\" x=\"65.62\" y=\"-13.7\" font-family=\"Times,serif\" font-size=\"14.00\">data 5.0000</text>\n",
       "<polyline fill=\"none\" stroke=\"black\" points=\"105.5,-1 105.5,-36.5\"/>\n",
       "<text text-anchor=\"middle\" x=\"146.12\" y=\"-13.7\" font-family=\"Times,serif\" font-size=\"14.00\">grad 6.0000</text>\n",
       "</g>\n",
       "<!-- 4962322032&#45;&gt;4962333744* -->\n",
       "<g id=\"edge3\" class=\"edge\">\n",
       "<title>4962322032&#45;&gt;4962333744*</title>\n",
       "<path fill=\"none\" stroke=\"black\" d=\"M187,-34.28C196.89,-36 206.49,-37.66 215.14,-39.16\"/>\n",
       "<polygon fill=\"black\" stroke=\"black\" points=\"214.34,-42.57 224.79,-40.83 215.53,-35.67 214.34,-42.57\"/>\n",
       "</g>\n",
       "</g>\n",
       "</svg>\n"
      ],
      "text/plain": [
       "<graphviz.graphs.Digraph at 0x127c726e0>"
      ]
     },
     "execution_count": 46,
     "metadata": {},
     "output_type": "execute_result"
    }
   ],
   "source": [
    "draw_dot(y)"
   ]
  },
  {
   "attachments": {},
   "cell_type": "markdown",
   "metadata": {},
   "source": [
    "Получется, что мы должны для каждой операции, которую хотим использовать с `Value` определить, как через нее будет `течь` градиент.  \n",
    "Реализуем для сложения  \n",
    "Там градиент у `children` будет такой же как у `родителя`\n",
    "```py\n",
    "class Value:\n",
    "    def __add__(self, other):\n",
    "        out = Value(self.data + other.data, (self, other), '+')\n",
    "    \n",
    "        def _backward():\n",
    "           self.grad += out.grad\n",
    "           other.grad += out.grad\n",
    "        out._backward = _backward\n",
    "    \n",
    "        return out\n",
    "```"
   ]
  },
  {
   "cell_type": "code",
   "execution_count": 43,
   "metadata": {},
   "outputs": [],
   "source": [
    "class Value:\n",
    "    def __init__(self, data, _children=(), _op='', label=''):\n",
    "        self.data = data\n",
    "        self.grad = 0.0\n",
    "        self._backward = lambda: None\n",
    "        self._prev = set(_children)\n",
    "        self._op = _op\n",
    "        self.label = label\n",
    "\n",
    "    def __repr__(self):\n",
    "        return f\"Value(data={self.data})\"\n",
    "\n",
    "    def __mul__(self, other):\n",
    "        out = Value(self.data * other.data, (self, other), '*')\n",
    "        \n",
    "        def _backward():\n",
    "            self.grad += other.data * out.grad\n",
    "            other.grad += self.data * out.grad\n",
    "\n",
    "        out._backward = _backward\n",
    "        \n",
    "        return out\n",
    "\n",
    "    def __add__(self, other):\n",
    "        out = Value(self.data + other.data, (self, other), '+')\n",
    "    \n",
    "        def _backward():\n",
    "           self.grad += 1.0 * out.grad\n",
    "           other.grad += 1.0 * out.grad\n",
    "        out._backward = _backward\n",
    "    \n",
    "        return out"
   ]
  },
  {
   "attachments": {},
   "cell_type": "markdown",
   "metadata": {},
   "source": [
    "# Дальше добавить бэквард через все операции\n",
    "# обучиться на чемто\n",
    "# потом перцептрон и новые операции"
   ]
  },
  {
   "cell_type": "code",
   "execution_count": 15,
   "metadata": {},
   "outputs": [
    {
     "data": {
      "text/plain": [
       "Value(data=-8.0)"
      ]
     },
     "execution_count": 15,
     "metadata": {},
     "output_type": "execute_result"
    }
   ],
   "source": [
    "class Value:\n",
    "  \n",
    "  def __init__(self, data, _children=(), _op='', label=''):\n",
    "    self.data = data\n",
    "    self.grad = 0.0\n",
    "    self._backward = lambda: None\n",
    "    self._prev = set(_children)\n",
    "    self._op = _op\n",
    "    self.label = label\n",
    "\n",
    "  def __repr__(self):\n",
    "    return f\"Value(data={self.data})\"\n",
    "  \n",
    "  def __add__(self, other):\n",
    "    out = Value(self.data + other.data, (self, other), '+')\n",
    "    \n",
    "    def _backward():\n",
    "      self.grad += 1.0 * out.grad\n",
    "      other.grad += 1.0 * out.grad\n",
    "    out._backward = _backward\n",
    "    \n",
    "    return out\n",
    "\n",
    "  def __mul__(self, other):\n",
    "    out = Value(self.data * other.data, (self, other), '*')\n",
    "    \n",
    "    def _backward():\n",
    "      self.grad += other.data * out.grad\n",
    "      other.grad += self.data * out.grad\n",
    "    out._backward = _backward\n",
    "      \n",
    "    return out\n",
    "  \n",
    "  def tanh(self):\n",
    "    x = self.data\n",
    "    t = (math.exp(2*x) - 1)/(math.exp(2*x) + 1)\n",
    "    out = Value(t, (self, ), 'tanh')\n",
    "    \n",
    "    def _backward():\n",
    "      self.grad += (1 - t**2) * out.grad\n",
    "    out._backward = _backward\n",
    "    \n",
    "    return out\n",
    "  \n",
    "  def backward(self):\n",
    "    \n",
    "    topo = []\n",
    "    visited = set()\n",
    "    def build_topo(v):\n",
    "      if v not in visited:\n",
    "        visited.add(v)\n",
    "        for child in v._prev:\n",
    "          build_topo(child)\n",
    "        topo.append(v)\n",
    "    build_topo(self)\n",
    "    \n",
    "    self.grad = 1.0\n",
    "    for node in reversed(topo):\n",
    "      node._backward()\n",
    "\n",
    "\n",
    "a = Value(2.0, label='a')\n",
    "b = Value(-3.0, label='b')\n",
    "c = Value(10.0, label='c')\n",
    "e = a*b; e.label = 'e'\n",
    "d = e + c; d.label = 'd'\n",
    "f = Value(-2.0, label='f')\n",
    "L = d * f; L.label = 'L'\n",
    "L"
   ]
  },
  {
   "cell_type": "code",
   "execution_count": 27,
   "metadata": {},
   "outputs": [
    {
     "data": {
      "image/svg+xml": [
       "<?xml version=\"1.0\" encoding=\"UTF-8\" standalone=\"no\"?>\n",
       "<!DOCTYPE svg PUBLIC \"-//W3C//DTD SVG 1.1//EN\"\n",
       " \"http://www.w3.org/Graphics/SVG/1.1/DTD/svg11.dtd\">\n",
       "<!-- Generated by graphviz version 10.0.1 (20240210.2158)\n",
       " -->\n",
       "<!-- Pages: 1 -->\n",
       "<svg width=\"1140pt\" height=\"154pt\"\n",
       " viewBox=\"0.00 0.00 1139.75 154.00\" xmlns=\"http://www.w3.org/2000/svg\" xmlns:xlink=\"http://www.w3.org/1999/xlink\">\n",
       "<g id=\"graph0\" class=\"graph\" transform=\"scale(1 1) rotate(0) translate(4 150)\">\n",
       "<polygon fill=\"white\" stroke=\"none\" points=\"-4,4 -4,-150 1135.75,-150 1135.75,4 -4,4\"/>\n",
       "<!-- 4902083200 -->\n",
       "<g id=\"node1\" class=\"node\">\n",
       "<title>4902083200</title>\n",
       "<polygon fill=\"none\" stroke=\"black\" points=\"315.38,-27.5 315.38,-63.5 502.88,-63.5 502.88,-27.5 315.38,-27.5\"/>\n",
       "<text text-anchor=\"middle\" x=\"326.38\" y=\"-40.7\" font-family=\"Times,serif\" font-size=\"14.00\">e</text>\n",
       "<polyline fill=\"none\" stroke=\"black\" points=\"337.38,-28 337.38,-63.5\"/>\n",
       "<text text-anchor=\"middle\" x=\"379.5\" y=\"-40.7\" font-family=\"Times,serif\" font-size=\"14.00\">data &#45;6.0000</text>\n",
       "<polyline fill=\"none\" stroke=\"black\" points=\"421.62,-28 421.62,-63.5\"/>\n",
       "<text text-anchor=\"middle\" x=\"462.25\" y=\"-40.7\" font-family=\"Times,serif\" font-size=\"14.00\">grad 0.0000</text>\n",
       "</g>\n",
       "<!-- 4902085408+ -->\n",
       "<g id=\"node6\" class=\"node\">\n",
       "<title>4902085408+</title>\n",
       "<ellipse fill=\"none\" stroke=\"black\" cx=\"567\" cy=\"-72.5\" rx=\"27\" ry=\"18\"/>\n",
       "<text text-anchor=\"middle\" x=\"567\" y=\"-67.45\" font-family=\"Times,serif\" font-size=\"14.00\">+</text>\n",
       "</g>\n",
       "<!-- 4902083200&#45;&gt;4902085408+ -->\n",
       "<g id=\"edge9\" class=\"edge\">\n",
       "<title>4902083200&#45;&gt;4902085408+</title>\n",
       "<path fill=\"none\" stroke=\"black\" d=\"M503.05,-61.6C512.25,-63.19 521.16,-64.73 529.24,-66.13\"/>\n",
       "<polygon fill=\"black\" stroke=\"black\" points=\"528.48,-69.55 538.93,-67.81 529.68,-62.66 528.48,-69.55\"/>\n",
       "</g>\n",
       "<!-- 4902083200* -->\n",
       "<g id=\"node2\" class=\"node\">\n",
       "<title>4902083200*</title>\n",
       "<ellipse fill=\"none\" stroke=\"black\" cx=\"251.25\" cy=\"-45.5\" rx=\"27\" ry=\"18\"/>\n",
       "<text text-anchor=\"middle\" x=\"251.25\" y=\"-40.45\" font-family=\"Times,serif\" font-size=\"14.00\">*</text>\n",
       "</g>\n",
       "<!-- 4902083200*&#45;&gt;4902083200 -->\n",
       "<g id=\"edge1\" class=\"edge\">\n",
       "<title>4902083200*&#45;&gt;4902083200</title>\n",
       "<path fill=\"none\" stroke=\"black\" d=\"M278.69,-45.5C286.1,-45.5 294.64,-45.5 303.71,-45.5\"/>\n",
       "<polygon fill=\"black\" stroke=\"black\" points=\"303.51,-49 313.51,-45.5 303.51,-42 303.51,-49\"/>\n",
       "</g>\n",
       "<!-- 4902077056 -->\n",
       "<g id=\"node3\" class=\"node\">\n",
       "<title>4902077056</title>\n",
       "<polygon fill=\"none\" stroke=\"black\" points=\"0,-55.5 0,-91.5 188.25,-91.5 188.25,-55.5 0,-55.5\"/>\n",
       "<text text-anchor=\"middle\" x=\"11.38\" y=\"-68.7\" font-family=\"Times,serif\" font-size=\"14.00\">b</text>\n",
       "<polyline fill=\"none\" stroke=\"black\" points=\"22.75,-56 22.75,-91.5\"/>\n",
       "<text text-anchor=\"middle\" x=\"64.88\" y=\"-68.7\" font-family=\"Times,serif\" font-size=\"14.00\">data &#45;3.0000</text>\n",
       "<polyline fill=\"none\" stroke=\"black\" points=\"107,-56 107,-91.5\"/>\n",
       "<text text-anchor=\"middle\" x=\"147.62\" y=\"-68.7\" font-family=\"Times,serif\" font-size=\"14.00\">grad 0.0000</text>\n",
       "</g>\n",
       "<!-- 4902077056&#45;&gt;4902083200* -->\n",
       "<g id=\"edge5\" class=\"edge\">\n",
       "<title>4902077056&#45;&gt;4902083200*</title>\n",
       "<path fill=\"none\" stroke=\"black\" d=\"M188.49,-56.65C197.36,-55.05 205.93,-53.5 213.73,-52.09\"/>\n",
       "<polygon fill=\"black\" stroke=\"black\" points=\"214.2,-55.56 223.42,-50.34 212.95,-48.68 214.2,-55.56\"/>\n",
       "</g>\n",
       "<!-- 4902077200 -->\n",
       "<g id=\"node4\" class=\"node\">\n",
       "<title>4902077200</title>\n",
       "<polygon fill=\"none\" stroke=\"black\" points=\"2.62,-0.5 2.62,-36.5 185.62,-36.5 185.62,-0.5 2.62,-0.5\"/>\n",
       "<text text-anchor=\"middle\" x=\"13.62\" y=\"-13.7\" font-family=\"Times,serif\" font-size=\"14.00\">a</text>\n",
       "<polyline fill=\"none\" stroke=\"black\" points=\"24.62,-1 24.62,-36.5\"/>\n",
       "<text text-anchor=\"middle\" x=\"64.5\" y=\"-13.7\" font-family=\"Times,serif\" font-size=\"14.00\">data 2.0000</text>\n",
       "<polyline fill=\"none\" stroke=\"black\" points=\"104.38,-1 104.38,-36.5\"/>\n",
       "<text text-anchor=\"middle\" x=\"145\" y=\"-13.7\" font-family=\"Times,serif\" font-size=\"14.00\">grad 0.0000</text>\n",
       "</g>\n",
       "<!-- 4902077200&#45;&gt;4902083200* -->\n",
       "<g id=\"edge7\" class=\"edge\">\n",
       "<title>4902077200&#45;&gt;4902083200*</title>\n",
       "<path fill=\"none\" stroke=\"black\" d=\"M185.81,-34.28C195.45,-35.96 204.82,-37.59 213.29,-39.07\"/>\n",
       "<polygon fill=\"black\" stroke=\"black\" points=\"212.65,-42.51 223.1,-40.77 213.85,-35.61 212.65,-42.51\"/>\n",
       "</g>\n",
       "<!-- 4902085408 -->\n",
       "<g id=\"node5\" class=\"node\">\n",
       "<title>4902085408</title>\n",
       "<polygon fill=\"none\" stroke=\"black\" points=\"631.12,-54.5 631.12,-90.5 814.88,-90.5 814.88,-54.5 631.12,-54.5\"/>\n",
       "<text text-anchor=\"middle\" x=\"642.5\" y=\"-67.7\" font-family=\"Times,serif\" font-size=\"14.00\">d</text>\n",
       "<polyline fill=\"none\" stroke=\"black\" points=\"653.88,-55 653.88,-90.5\"/>\n",
       "<text text-anchor=\"middle\" x=\"693.75\" y=\"-67.7\" font-family=\"Times,serif\" font-size=\"14.00\">data 4.0000</text>\n",
       "<polyline fill=\"none\" stroke=\"black\" points=\"733.62,-55 733.62,-90.5\"/>\n",
       "<text text-anchor=\"middle\" x=\"774.25\" y=\"-67.7\" font-family=\"Times,serif\" font-size=\"14.00\">grad 0.0000</text>\n",
       "</g>\n",
       "<!-- 4902085984* -->\n",
       "<g id=\"node8\" class=\"node\">\n",
       "<title>4902085984*</title>\n",
       "<ellipse fill=\"none\" stroke=\"black\" cx=\"879\" cy=\"-99.5\" rx=\"27\" ry=\"18\"/>\n",
       "<text text-anchor=\"middle\" x=\"879\" y=\"-94.45\" font-family=\"Times,serif\" font-size=\"14.00\">*</text>\n",
       "</g>\n",
       "<!-- 4902085408&#45;&gt;4902085984* -->\n",
       "<g id=\"edge6\" class=\"edge\">\n",
       "<title>4902085408&#45;&gt;4902085984*</title>\n",
       "<path fill=\"none\" stroke=\"black\" d=\"M815.36,-88.52C824.5,-90.12 833.36,-91.67 841.4,-93.08\"/>\n",
       "<polygon fill=\"black\" stroke=\"black\" points=\"840.58,-96.49 851.04,-94.77 841.79,-89.6 840.58,-96.49\"/>\n",
       "</g>\n",
       "<!-- 4902085408+&#45;&gt;4902085408 -->\n",
       "<g id=\"edge2\" class=\"edge\">\n",
       "<title>4902085408+&#45;&gt;4902085408</title>\n",
       "<path fill=\"none\" stroke=\"black\" d=\"M594.47,-72.5C601.87,-72.5 610.38,-72.5 619.43,-72.5\"/>\n",
       "<polygon fill=\"black\" stroke=\"black\" points=\"619.17,-76 629.17,-72.5 619.17,-69 619.17,-76\"/>\n",
       "</g>\n",
       "<!-- 4902085984 -->\n",
       "<g id=\"node7\" class=\"node\">\n",
       "<title>4902085984</title>\n",
       "<polygon fill=\"none\" stroke=\"black\" points=\"942,-81.5 942,-117.5 1131.75,-117.5 1131.75,-81.5 942,-81.5\"/>\n",
       "<text text-anchor=\"middle\" x=\"954.12\" y=\"-94.7\" font-family=\"Times,serif\" font-size=\"14.00\">L</text>\n",
       "<polyline fill=\"none\" stroke=\"black\" points=\"966.25,-82 966.25,-117.5\"/>\n",
       "<text text-anchor=\"middle\" x=\"1008.38\" y=\"-94.7\" font-family=\"Times,serif\" font-size=\"14.00\">data &#45;8.0000</text>\n",
       "<polyline fill=\"none\" stroke=\"black\" points=\"1050.5,-82 1050.5,-117.5\"/>\n",
       "<text text-anchor=\"middle\" x=\"1091.12\" y=\"-94.7\" font-family=\"Times,serif\" font-size=\"14.00\">grad 0.0000</text>\n",
       "</g>\n",
       "<!-- 4902085984*&#45;&gt;4902085984 -->\n",
       "<g id=\"edge3\" class=\"edge\">\n",
       "<title>4902085984*&#45;&gt;4902085984</title>\n",
       "<path fill=\"none\" stroke=\"black\" d=\"M906.44,-99.5C913.59,-99.5 921.78,-99.5 930.49,-99.5\"/>\n",
       "<polygon fill=\"black\" stroke=\"black\" points=\"930.26,-103 940.26,-99.5 930.26,-96 930.26,-103\"/>\n",
       "</g>\n",
       "<!-- 4902089584 -->\n",
       "<g id=\"node9\" class=\"node\">\n",
       "<title>4902089584</title>\n",
       "<polygon fill=\"none\" stroke=\"black\" points=\"314.25,-82.5 314.25,-118.5 504,-118.5 504,-82.5 314.25,-82.5\"/>\n",
       "<text text-anchor=\"middle\" x=\"325.25\" y=\"-95.7\" font-family=\"Times,serif\" font-size=\"14.00\">c</text>\n",
       "<polyline fill=\"none\" stroke=\"black\" points=\"336.25,-83 336.25,-118.5\"/>\n",
       "<text text-anchor=\"middle\" x=\"379.5\" y=\"-95.7\" font-family=\"Times,serif\" font-size=\"14.00\">data 10.0000</text>\n",
       "<polyline fill=\"none\" stroke=\"black\" points=\"422.75,-83 422.75,-118.5\"/>\n",
       "<text text-anchor=\"middle\" x=\"463.38\" y=\"-95.7\" font-family=\"Times,serif\" font-size=\"14.00\">grad 0.0000</text>\n",
       "</g>\n",
       "<!-- 4902089584&#45;&gt;4902085408+ -->\n",
       "<g id=\"edge4\" class=\"edge\">\n",
       "<title>4902089584&#45;&gt;4902085408+</title>\n",
       "<path fill=\"none\" stroke=\"black\" d=\"M504.39,-83.57C513.16,-81.99 521.65,-80.47 529.37,-79.08\"/>\n",
       "<polygon fill=\"black\" stroke=\"black\" points=\"529.73,-82.57 538.95,-77.36 528.49,-75.68 529.73,-82.57\"/>\n",
       "</g>\n",
       "<!-- 4902085600 -->\n",
       "<g id=\"node10\" class=\"node\">\n",
       "<title>4902085600</title>\n",
       "<polygon fill=\"none\" stroke=\"black\" points=\"630,-109.5 630,-145.5 816,-145.5 816,-109.5 630,-109.5\"/>\n",
       "<text text-anchor=\"middle\" x=\"640.25\" y=\"-122.7\" font-family=\"Times,serif\" font-size=\"14.00\">f</text>\n",
       "<polyline fill=\"none\" stroke=\"black\" points=\"650.5,-110 650.5,-145.5\"/>\n",
       "<text text-anchor=\"middle\" x=\"692.62\" y=\"-122.7\" font-family=\"Times,serif\" font-size=\"14.00\">data &#45;2.0000</text>\n",
       "<polyline fill=\"none\" stroke=\"black\" points=\"734.75,-110 734.75,-145.5\"/>\n",
       "<text text-anchor=\"middle\" x=\"775.38\" y=\"-122.7\" font-family=\"Times,serif\" font-size=\"14.00\">grad 0.0000</text>\n",
       "</g>\n",
       "<!-- 4902085600&#45;&gt;4902085984* -->\n",
       "<g id=\"edge8\" class=\"edge\">\n",
       "<title>4902085600&#45;&gt;4902085984*</title>\n",
       "<path fill=\"none\" stroke=\"black\" d=\"M816.25,-110.73C825.1,-109.12 833.67,-107.56 841.46,-106.14\"/>\n",
       "<polygon fill=\"black\" stroke=\"black\" points=\"841.93,-109.62 851.15,-104.38 840.68,-102.73 841.93,-109.62\"/>\n",
       "</g>\n",
       "</g>\n",
       "</svg>\n"
      ],
      "text/plain": [
       "<graphviz.graphs.Digraph at 0x127a28100>"
      ]
     },
     "execution_count": 27,
     "metadata": {},
     "output_type": "execute_result"
    }
   ],
   "source": [
    "draw_dot(L)"
   ]
  },
  {
   "cell_type": "code",
   "execution_count": null,
   "metadata": {},
   "outputs": [],
   "source": []
  }
 ],
 "metadata": {
  "kernelspec": {
   "display_name": ".venv",
   "language": "python",
   "name": "python3"
  },
  "language_info": {
   "codemirror_mode": {
    "name": "ipython",
    "version": 3
   },
   "file_extension": ".py",
   "mimetype": "text/x-python",
   "name": "python",
   "nbconvert_exporter": "python",
   "pygments_lexer": "ipython3",
   "version": "3.10.2"
  }
 },
 "nbformat": 4,
 "nbformat_minor": 2
}
